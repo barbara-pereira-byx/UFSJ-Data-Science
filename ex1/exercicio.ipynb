{
 "cells": [
  {
   "cell_type": "code",
   "execution_count": 9,
   "metadata": {},
   "outputs": [
    {
     "data": {
      "text/plain": [
       "True"
      ]
     },
     "execution_count": 9,
     "metadata": {},
     "output_type": "execute_result"
    }
   ],
   "source": [
    "def isEven (val):\n",
    "    return val % 2 == 0\n",
    "\n",
    "isEven(4)\n"
   ]
  },
  {
   "cell_type": "code",
   "execution_count": 3,
   "metadata": {},
   "outputs": [
    {
     "data": {
      "text/plain": [
       "22"
      ]
     },
     "execution_count": 3,
     "metadata": {},
     "output_type": "execute_result"
    }
   ],
   "source": [
    "def sum (array):\n",
    "    total = 0\n",
    "    for value in array:\n",
    "        total = total + value\n",
    "    return total\n",
    "\n",
    "sum([5,8,9])"
   ]
  },
  {
   "cell_type": "code",
   "execution_count": 7,
   "metadata": {},
   "outputs": [
    {
     "name": "stdout",
     "output_type": "stream",
     "text": [
      "The sum of [19, 23, 100] is 142\n"
     ]
    }
   ],
   "source": [
    "array = [19, 23, 100]\n",
    "print(f'The sum of {array} is {sum(array)}')"
   ]
  },
  {
   "cell_type": "code",
   "execution_count": 10,
   "metadata": {},
   "outputs": [
    {
     "name": "stdout",
     "output_type": "stream",
     "text": [
      "100 is even? True\n",
      "23 is even? False\n"
     ]
    }
   ],
   "source": [
    "even = 100\n",
    "odd = 23\n",
    "\n",
    "print(f'{even} is even? {isEven(even)}')\n",
    "print(f'{odd} is even? {isEven(odd)}')"
   ]
  },
  {
   "cell_type": "code",
   "execution_count": 13,
   "metadata": {},
   "outputs": [
    {
     "data": {
      "text/plain": [
       "[22, 188]"
      ]
     },
     "execution_count": 13,
     "metadata": {},
     "output_type": "execute_result"
    }
   ],
   "source": [
    "def onlyEven(array):\n",
    "    evens = []\n",
    "    for value in array:\n",
    "        if isEven(value):\n",
    "            evens.append(value)\n",
    "    return evens\n",
    "\n",
    "onlyEven([21, 55, 22, 188])"
   ]
  },
  {
   "cell_type": "code",
   "execution_count": 15,
   "metadata": {},
   "outputs": [],
   "source": [
    "def greaterValue(array):\n",
    "    if len(array) == 0:\n",
    "        return \n",
    "    greater = array[0]\n",
    "    for value in array:\n",
    "        if value > greater:\n",
    "            greater = value\n",
    "    return greater\n",
    "\n",
    "greaterValue([])"
   ]
  },
  {
   "cell_type": "code",
   "execution_count": 28,
   "metadata": {},
   "outputs": [
    {
     "name": "stdout",
     "output_type": "stream",
     "text": [
      "Abbreviation: BRA | Name: Brazil\n",
      "Abbreviation: RUS | Name: Russia\n",
      "Abbreviation: JPN | Name: Japan\n"
     ]
    }
   ],
   "source": [
    "dicionario = {\n",
    "    \"BRA\": \"Brazil\",\n",
    "    \"RUS\": \"Russia\",\n",
    "    \"VIE\": \"Vietnam\"\n",
    "}\n",
    "\n",
    "dicionario[\"JPN\"] = \"Japan\"\n",
    "\n",
    "del dicionario[\"VIE\"]\n",
    "\n",
    "for key, value in dicionario.items():\n",
    "    print(f\"Abbreviation: {key} | Name: {value}\")"
   ]
  },
  {
   "cell_type": "code",
   "execution_count": 42,
   "metadata": {},
   "outputs": [
    {
     "name": "stdout",
     "output_type": "stream",
     "text": [
      "6.0\n",
      "8.0\n"
     ]
    }
   ],
   "source": [
    "import copy\n",
    "\n",
    "me = {\n",
    "    \"name\": \"Gabriel de Paula\",\n",
    "    \"age\": 20,\n",
    "    \"grades\": [6, 8, 10]\n",
    "}\n",
    "\n",
    "def averageGrade(student):\n",
    "    return sum(student[\"grades\"]) / len(student[\"grades\"])\n",
    "\n",
    "you = copy.deepcopy(me)\n",
    "you[\"grades\"].append(0)\n",
    "\n",
    "print(averageGrade(you))\n",
    "print(averageGrade(me))"
   ]
  },
  {
   "cell_type": "code",
   "execution_count": 50,
   "metadata": {},
   "outputs": [
    {
     "name": "stdout",
     "output_type": "stream",
     "text": [
      "Linhas  = 5\n"
     ]
    }
   ],
   "source": [
    "with open(\"teste1.txt\", \"r\") as file1:\n",
    "    with open(\"teste2.txt\", \"w\") as file2:\n",
    "        content = file1.readlines()\n",
    "        print(f'Linhas  = {len(content)}')\n",
    "        file2.writelines(content)"
   ]
  },
  {
   "cell_type": "code",
   "execution_count": 62,
   "metadata": {},
   "outputs": [
    {
     "name": "stdout",
     "output_type": "stream",
     "text": [
      "VRUMMMMMM\n",
      "Honda Civic 2020\n",
      "BYD 2025 2 pilhas duracell\n"
     ]
    }
   ],
   "source": [
    "class Carro ():\n",
    "    def __init__(self, modelo, ano):\n",
    "        self.modelo = modelo\n",
    "        self.ano = ano\n",
    "\n",
    "    def acelerar(self):\n",
    "        print(\"VRUMMMMMM\")\n",
    "\n",
    "\n",
    "my = Carro(\"Honda Civic\", 2020)\n",
    "my.acelerar()\n",
    "print(my.modelo, my.ano)\n",
    "\n",
    "class CarroEletrico (Carro):\n",
    "    def __init__(self, ano, bateria):\n",
    "        self.bateria = bateria\n",
    "        super().__init__(\"BYD\", ano)\n",
    "\n",
    "your = CarroEletrico(2025, \"2 pilhas duracell\")\n",
    "print(your.modelo, your.ano, your.bateria)"
   ]
  },
  {
   "cell_type": "code",
   "execution_count": 63,
   "metadata": {},
   "outputs": [
    {
     "name": "stdout",
     "output_type": "stream",
     "text": [
      "15\n"
     ]
    }
   ],
   "source": [
    "triple = lambda value: value * 3  # noqa: E731\n",
    "print(triple(5))"
   ]
  },
  {
   "cell_type": "code",
   "execution_count": 3,
   "metadata": {},
   "outputs": [
    {
     "name": "stdout",
     "output_type": "stream",
     "text": [
      "Linhas  = 5\n",
      "0:00:00.001862\n"
     ]
    }
   ],
   "source": [
    "from datetime import datetime\n",
    "\n",
    "def elapsedTimeMeter (fun):\n",
    "    start = datetime.now()\n",
    "    fun()\n",
    "    end = datetime.now()\n",
    "    print(end - start)\n",
    "\n",
    "@elapsedTimeMeter\n",
    "def fileOperations ():\n",
    "    with open(\"teste1.txt\", \"r\") as file1:\n",
    "        with open(\"teste2.txt\", \"w\") as file2:\n",
    "            content = file1.readlines()\n",
    "            print(f'Linhas  = {len(content)}')\n",
    "            file2.writelines(content)\n",
    "\n",
    "fileOperations\n",
    "\n"
   ]
  }
 ],
 "metadata": {
  "kernelspec": {
   "display_name": "Python 3",
   "language": "python",
   "name": "python3"
  },
  "language_info": {
   "codemirror_mode": {
    "name": "ipython",
    "version": 3
   },
   "file_extension": ".py",
   "mimetype": "text/x-python",
   "name": "python",
   "nbconvert_exporter": "python",
   "pygments_lexer": "ipython3",
   "version": "3.10.12"
  }
 },
 "nbformat": 4,
 "nbformat_minor": 2
}
